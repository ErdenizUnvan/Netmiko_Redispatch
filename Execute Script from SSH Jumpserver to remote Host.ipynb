{
 "cells": [
  {
   "cell_type": "code",
   "execution_count": null,
   "id": "57d97403",
   "metadata": {},
   "outputs": [],
   "source": [
    "#sso su an kime bagli"
   ]
  },
  {
   "cell_type": "code",
   "execution_count": null,
   "id": "7145b550",
   "metadata": {},
   "outputs": [],
   "source": [
    "!pip install netmiko"
   ]
  },
  {
   "cell_type": "code",
   "execution_count": null,
   "id": "a1eff395",
   "metadata": {},
   "outputs": [],
   "source": [
    "from netmiko import ConnectHandler\n",
    "\n",
    "remote_host = {\n",
    "    'device_type': 'cisco_nxos',  # Adjust this according to the remote host's OS\n",
    "    'host': 'sandbox-nxos-1.cisco.com',\n",
    "    'username': 'admin',\n",
    "    'password': 'Admin_1234!',\n",
    "    'port': 22,\n",
    "}\n",
    "\n",
    "conn=ConnectHandler(**remote_host)\n",
    "output=conn.send_command('show version')\n",
    "print(output)\n",
    "conn.disconnect()"
   ]
  },
  {
   "cell_type": "code",
   "execution_count": null,
   "id": "ad872b6c",
   "metadata": {},
   "outputs": [],
   "source": [
    "from netmiko import ConnectHandler\n",
    "\n",
    "remote_host = {\n",
    "    'device_type': 'cisco_nxos',  # Adjust this according to the remote host's OS\n",
    "    'host': 'sandbox-nxos-1.cisco.com',\n",
    "    'username': 'admin',\n",
    "    'password': 'Admin_1234!',\n",
    "    'port': 22,\n",
    "}\n",
    "\n",
    "conn=ConnectHandler(**remote_host)\n",
    "output=conn.send_command('show version',use_textfsm=True)\n",
    "print(output)\n",
    "conn.disconnect()"
   ]
  },
  {
   "cell_type": "code",
   "execution_count": null,
   "id": "69599063",
   "metadata": {},
   "outputs": [],
   "source": [
    "output[0]['serial']"
   ]
  },
  {
   "cell_type": "code",
   "execution_count": null,
   "id": "091d7722",
   "metadata": {},
   "outputs": [],
   "source": [
    "from netmiko import ConnectHandler\n",
    "\n",
    "# Define connection parameters for the CentOS server\n",
    "server = {\n",
    "    'device_type': 'linux',\n",
    "    'host': '10.1.100.88',\n",
    "    'username': 'kc',\n",
    "    'password': 'password',\n",
    "    'port': 22,\n",
    "}\n",
    "\n",
    "# Connect to the server\n",
    "centos_conn = ConnectHandler(**server)\n",
    "\n",
    "# Run the command to list SSH connections\n",
    "output = centos_conn.send_command(\"ps aux | grep ssh\")\n",
    "\n",
    "# Print the output\n",
    "print(output)\n",
    "\n",
    "# Disconnect from the CentOS server\n",
    "centos_conn.disconnect()\n"
   ]
  },
  {
   "cell_type": "code",
   "execution_count": null,
   "id": "27d63b5b",
   "metadata": {},
   "outputs": [],
   "source": [
    "from netmiko import ConnectHandler\n",
    "\n",
    "# Define connection parameters for the CentOS server\n",
    "server = {\n",
    "    'device_type': 'linux',\n",
    "    'host': '10.1.100.88',\n",
    "    'username': 'kc',\n",
    "    'password': 'password',\n",
    "    'port': 22,\n",
    "}\n",
    "\n",
    "# Connect to the server\n",
    "centos_conn = ConnectHandler(**server)\n",
    "\n",
    "# Run the command to list SSH connections\n",
    "output = centos_conn.send_command(\"cat .ssh/known_hosts\")\n",
    "\n",
    "# Print the output\n",
    "print(output)\n",
    "\n",
    "# Disconnect from the CentOS server\n",
    "centos_conn.disconnect()\n"
   ]
  },
  {
   "cell_type": "code",
   "execution_count": null,
   "id": "a861ce5d",
   "metadata": {},
   "outputs": [],
   "source": [
    "from netmiko import ConnectHandler, redispatch\n",
    "\n",
    "# Define connection parameters for the CentOS server\n",
    "server = {\n",
    "    'device_type': 'linux',\n",
    "    'host': '10.1.100.88',\n",
    "    'username': 'kc',\n",
    "    'password': 'password',\n",
    "    'port': 22,\n",
    "}\n",
    "\n",
    "\n",
    "# Define connection parameters for the remote Cisco host\n",
    "remote_host = {\n",
    "    'device_type': 'cisco_nxos',  # Adjust this according to the remote host's OS\n",
    "    'host': 'sandbox-nxos-1.cisco.com',\n",
    "    'username': 'admin',\n",
    "    'password': 'Admin_1234!',\n",
    "    'port': 22,\n",
    "}\n",
    "\n",
    "# Connect to the CentOS jump server\n",
    "jump_conn = ConnectHandler(**server)\n",
    "\n",
    "# Establish the SSH connection to the remote Cisco host from the jump server\n",
    "jump_conn.write_channel(f\"ssh {remote_host['username']}@{remote_host['host']}\\n\")\n",
    "\n",
    "# Handle the password prompt\n",
    "jump_conn.read_until_pattern(\"Password:\")\n",
    "jump_conn.write_channel(f\"{remote_host['password']}\\n\")\n",
    "\n",
    "# Redispatch the connection to the remote Cisco host\n",
    "redispatch(jump_conn, device_type=remote_host['device_type'])\n",
    "\n",
    "# Now you can execute commands on the remote host\n",
    "output = jump_conn.send_command(\"show ip interface brief\",use_textfsm=True)\n",
    "print(output)\n",
    "\n",
    "# Don't forget to disconnect\n",
    "jump_conn.disconnect()\n"
   ]
  },
  {
   "cell_type": "code",
   "execution_count": null,
   "id": "d6a944bc",
   "metadata": {},
   "outputs": [],
   "source": [
    "from netmiko import ConnectHandler, redispatch\n",
    "\n",
    "# Define connection parameters for the CentOS server\n",
    "server = {\n",
    "    'device_type': 'linux',\n",
    "    'host': '10.1.100.88',\n",
    "    'username': 'kc',\n",
    "    'password': 'password',\n",
    "    'port': 22,\n",
    "}\n",
    "\n",
    "# Define connection parameters for the remote Cisco host\n",
    "remote_host = {\n",
    "    'device_type': 'cisco_nxos',  # Adjust this according to the remote host's OS\n",
    "    'host': 'sandbox-nxos-1.cisco.com',\n",
    "    'username': 'admin',\n",
    "    'password': 'Admin_1234!',\n",
    "    'port': 22,\n",
    "}\n",
    "\n",
    "# Connect to the CentOS jump server\n",
    "jump_conn = ConnectHandler(**server)\n",
    "\n",
    "# Establish the SSH connection to the remote Cisco host from the jump server\n",
    "jump_conn.write_channel(f\"ssh {remote_host['username']}@{remote_host['host']}\\n\")\n",
    "\n",
    "# Handle the password prompt\n",
    "jump_conn.read_until_pattern(\"Password:\")\n",
    "jump_conn.write_channel(f\"{remote_host['password']}\\n\")\n",
    "\n",
    "# Redispatch the connection to the remote Cisco host\n",
    "redispatch(jump_conn, device_type=remote_host['device_type'])\n",
    "\n",
    "# Now you can execute commands on the remote host\n",
    "output = jump_conn.send_command(\"show vlan brief\",use_textfsm=True)\n",
    "print(output)\n",
    "\n",
    "# Don't forget to disconnect\n",
    "jump_conn.disconnect()\n"
   ]
  },
  {
   "cell_type": "code",
   "execution_count": null,
   "id": "00968a5a",
   "metadata": {},
   "outputs": [],
   "source": []
  },
  {
   "cell_type": "code",
   "execution_count": null,
   "id": "b0dcdfcd",
   "metadata": {},
   "outputs": [],
   "source": []
  },
  {
   "cell_type": "code",
   "execution_count": null,
   "id": "5449656b",
   "metadata": {},
   "outputs": [],
   "source": []
  },
  {
   "cell_type": "code",
   "execution_count": null,
   "id": "f25e82ef",
   "metadata": {},
   "outputs": [],
   "source": []
  },
  {
   "cell_type": "code",
   "execution_count": null,
   "id": "7e32ac1d",
   "metadata": {},
   "outputs": [],
   "source": []
  },
  {
   "cell_type": "code",
   "execution_count": null,
   "id": "66eabfe3",
   "metadata": {},
   "outputs": [],
   "source": []
  },
  {
   "cell_type": "code",
   "execution_count": null,
   "id": "c1c8ce8e",
   "metadata": {},
   "outputs": [],
   "source": []
  },
  {
   "cell_type": "code",
   "execution_count": null,
   "id": "cadf2e41",
   "metadata": {},
   "outputs": [],
   "source": []
  },
  {
   "cell_type": "code",
   "execution_count": null,
   "id": "d39e2ab5",
   "metadata": {},
   "outputs": [],
   "source": []
  }
 ],
 "metadata": {
  "kernelspec": {
   "display_name": "Python 3 (ipykernel)",
   "language": "python",
   "name": "python3"
  },
  "language_info": {
   "codemirror_mode": {
    "name": "ipython",
    "version": 3
   },
   "file_extension": ".py",
   "mimetype": "text/x-python",
   "name": "python",
   "nbconvert_exporter": "python",
   "pygments_lexer": "ipython3",
   "version": "3.8.8"
  }
 },
 "nbformat": 4,
 "nbformat_minor": 5
}
